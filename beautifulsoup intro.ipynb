{
 "cells": [
  {
   "cell_type": "code",
   "execution_count": 36,
   "metadata": {},
   "outputs": [
    {
     "name": "stdout",
     "output_type": "stream",
     "text": [
      "\n",
      "<html><head><title>The title is Demo for BeautifulSoup</title></head>\n",
      "<body>\n",
      "<h1 class=\"title\"><b>The title headline is Demo for BeautifulSoup</b></p>\n",
      "\n",
      "<section class=\"main\" id=\"all_plants\">\n",
      "\n",
      "<p class=\"article\">There are three things to keep in mind:\n",
      "<a href=\"http://example.com/plant1\" class=\"plants life\" id=\"plant1\">Plant 1</a>: <span class=\"cost\">$10</span>,\n",
      "<a href=\"http://example.com/plant2\" class=\"plants life\" id=\"plant2\">Plant 2</a>: <span class=\"cost\">$20</span> and\n",
      "<a href=\"http://example.com/plant3\" class=\"plants life\" id=\"plant3\">Plant 3</a> <span class=\"cost\">$30</span>;\n",
      "</p>\n",
      "<strong>Don't forget to water these 3 plants.</strong>\n",
      "\n",
      "\n",
      "</section>\n",
      "\n",
      "<section class=\"main\" id=\"all_animals\">\n",
      "<p class=\"article\"> There are three animals in the barn:\n",
      "<a href=\"http://example.com/animal1\" class=\"animals life\" id=\"animal1\">Animal 1</a>: <span class=\"cost\">$500</span>,\n",
      "<a href=\"http://example.com/animal2\" class=\"animals life\" id=\"animal2\">Animal 2</a>: <span class=\"cost\">$600</span> and\n",
      "<a href=\"http://example.com/animal3\" class=\"animals life\" id=\"animal3\">Animal 3</a>: <span class=\"cost\">$700</span>;\n",
      "</p>\n",
      "<strong>Don't forget these feed these 3 animals.</strong>\n",
      "</section>\n",
      "\n",
      "\n",
      "<section>\n",
      "<p><span>Inanimate object 1</span></p>\n",
      "<p><span>Inanimate object 2</span></p>\n",
      "<p><span>Inanimate object 3</span></p>\n",
      "</section>\n",
      "\n"
     ]
    }
   ],
   "source": [
    "html_doc = \"\"\"\n",
    "<html><head><title>The title is Demo for BeautifulSoup</title></head>\n",
    "<body>\n",
    "<h1 class=\"title\"><b>The title headline is Demo for BeautifulSoup</b></p>\n",
    "\n",
    "<section class=\"main\" id=\"all_plants\">\n",
    "\n",
    "<p class=\"article\">There are three things to keep in mind:\n",
    "<a href=\"http://example.com/plant1\" class=\"plants life\" id=\"plant1\">Plant 1</a>: <span class=\"cost\">$10</span>,\n",
    "<a href=\"http://example.com/plant2\" class=\"plants life\" id=\"plant2\">Plant 2</a>: <span class=\"cost\">$20</span> and\n",
    "<a href=\"http://example.com/plant3\" class=\"plants life\" id=\"plant3\">Plant 3</a> <span class=\"cost\">$30</span>;\n",
    "</p>\n",
    "<strong>Don't forget to water these 3 plants.</strong>\n",
    "\n",
    "\n",
    "</section>\n",
    "\n",
    "<section class=\"main\" id=\"all_animals\">\n",
    "<p class=\"article\"> There are three animals in the barn:\n",
    "<a href=\"http://example.com/animal1\" class=\"animals life\" id=\"animal1\">Animal 1</a>: <span class=\"cost\">$500</span>,\n",
    "<a href=\"http://example.com/animal2\" class=\"animals life\" id=\"animal2\">Animal 2</a>: <span class=\"cost\">$600</span> and\n",
    "<a href=\"http://example.com/animal3\" class=\"animals life\" id=\"animal3\">Animal 3</a>: <span class=\"cost\">$700</span>;\n",
    "</p>\n",
    "<strong>Don't forget these feed these 3 animals.</strong>\n",
    "</section>\n",
    "\n",
    "\n",
    "<section>\n",
    "<p><span>Inanimate object 1</span></p>\n",
    "<p><span>Inanimate object 2</span></p>\n",
    "<p><span>Inanimate object 3</span></p>\n",
    "</section>\n",
    "\"\"\"\n",
    "\n",
    "print(html_doc)"
   ]
  },
  {
   "cell_type": "code",
   "execution_count": 37,
   "metadata": {},
   "outputs": [],
   "source": [
    "from bs4 import BeautifulSoup ## import library"
   ]
  },
  {
   "cell_type": "markdown",
   "metadata": {},
   "source": [
    "## Create a BeautifulSoup object\n",
    "<img src=\"img/bs-soup.png\">"
   ]
  },
  {
   "cell_type": "code",
   "execution_count": 38,
   "metadata": {},
   "outputs": [
    {
     "data": {
      "text/plain": [
       "\n",
       "<html><head><title>The title is Demo for BeautifulSoup</title></head>\n",
       "<body>\n",
       "<h1 class=\"title\"><b>The title headline is Demo for BeautifulSoup</b></h1></body></html>\n",
       "<section class=\"main\" id=\"all_plants\">\n",
       "<p class=\"article\">There are three things to keep in mind:\n",
       "<a class=\"plants life\" href=\"http://example.com/plant1\" id=\"plant1\">Plant 1</a>: <span class=\"cost\">$10</span>,\n",
       "<a class=\"plants life\" href=\"http://example.com/plant2\" id=\"plant2\">Plant 2</a>: <span class=\"cost\">$20</span> and\n",
       "<a class=\"plants life\" href=\"http://example.com/plant3\" id=\"plant3\">Plant 3</a> <span class=\"cost\">$30</span>;\n",
       "</p>\n",
       "<strong>Don't forget to water these 3 plants.</strong>\n",
       "</section>\n",
       "<section class=\"main\" id=\"all_animals\">\n",
       "<p class=\"article\"> There are three animals in the barn:\n",
       "<a class=\"animals life\" href=\"http://example.com/animal1\" id=\"animal1\">Animal 1</a>: <span class=\"cost\">$500</span>,\n",
       "<a class=\"animals life\" href=\"http://example.com/animal2\" id=\"animal2\">Animal 2</a>: <span class=\"cost\">$600</span> and\n",
       "<a class=\"animals life\" href=\"http://example.com/animal3\" id=\"animal3\">Animal 3</a>: <span class=\"cost\">$700</span>;\n",
       "</p>\n",
       "<strong>Don't forget these feed these 3 animals.</strong>\n",
       "</section>\n",
       "<section>\n",
       "<p><span>Inanimate object 1</span></p>\n",
       "<p><span>Inanimate object 2</span></p>\n",
       "<p><span>Inanimate object 3</span></p>\n",
       "</section>"
      ]
     },
     "execution_count": 38,
     "metadata": {},
     "output_type": "execute_result"
    }
   ],
   "source": [
    "## we add name of our file\n",
    "soup = BeautifulSoup(html_doc, 'html.parser')\n",
    "soup"
   ]
  },
  {
   "cell_type": "code",
   "execution_count": 39,
   "metadata": {},
   "outputs": [
    {
     "name": "stdout",
     "output_type": "stream",
     "text": [
      "<class 'bs4.BeautifulSoup'>\n"
     ]
    }
   ],
   "source": [
    "## What type of file is it?\n",
    "print(type(soup))"
   ]
  },
  {
   "cell_type": "code",
   "execution_count": 40,
   "metadata": {},
   "outputs": [
    {
     "data": {
      "text/plain": [
       "<title>The title is Demo for BeautifulSoup</title>"
      ]
     },
     "execution_count": 40,
     "metadata": {},
     "output_type": "execute_result"
    }
   ],
   "source": [
    "## get title of page\n",
    "soup.title"
   ]
  },
  {
   "cell_type": "code",
   "execution_count": 41,
   "metadata": {},
   "outputs": [
    {
     "data": {
      "text/plain": [
       "[<h1 class=\"title\"><b>The title headline is Demo for BeautifulSoup</b></h1>]"
      ]
     },
     "execution_count": 41,
     "metadata": {},
     "output_type": "execute_result"
    }
   ],
   "source": [
    "## What about the h1 tag with the class of title? \n",
    "## How can we have two titles?\n",
    "\n",
    "soup(\"h1\", class_=\"title\")"
   ]
  },
  {
   "cell_type": "markdown",
   "metadata": {},
   "source": [
    "### string v. get_text()\n",
    "\n",
    "In most cases, our final step in a scrape is to convert everything to a string. We don't want all the html. \n",
    "\n",
    "We can use ```.string``` or ```get_text().```\n",
    "\n",
    "- ```get_text()``` is far more powerful because you can add parameters to strip, specify separators, etc.\n"
   ]
  },
  {
   "cell_type": "code",
   "execution_count": 42,
   "metadata": {},
   "outputs": [
    {
     "data": {
      "text/plain": [
       "<bound method Tag.get_text of \n",
       "<html><head><title>The title is Demo for BeautifulSoup</title></head>\n",
       "<body>\n",
       "<h1 class=\"title\"><b>The title headline is Demo for BeautifulSoup</b></h1></body></html>\n",
       "<section class=\"main\" id=\"all_plants\">\n",
       "<p class=\"article\">There are three things to keep in mind:\n",
       "<a class=\"plants life\" href=\"http://example.com/plant1\" id=\"plant1\">Plant 1</a>: <span class=\"cost\">$10</span>,\n",
       "<a class=\"plants life\" href=\"http://example.com/plant2\" id=\"plant2\">Plant 2</a>: <span class=\"cost\">$20</span> and\n",
       "<a class=\"plants life\" href=\"http://example.com/plant3\" id=\"plant3\">Plant 3</a> <span class=\"cost\">$30</span>;\n",
       "</p>\n",
       "<strong>Don't forget to water these 3 plants.</strong>\n",
       "</section>\n",
       "<section class=\"main\" id=\"all_animals\">\n",
       "<p class=\"article\"> There are three animals in the barn:\n",
       "<a class=\"animals life\" href=\"http://example.com/animal1\" id=\"animal1\">Animal 1</a>: <span class=\"cost\">$500</span>,\n",
       "<a class=\"animals life\" href=\"http://example.com/animal2\" id=\"animal2\">Animal 2</a>: <span class=\"cost\">$600</span> and\n",
       "<a class=\"animals life\" href=\"http://example.com/animal3\" id=\"animal3\">Animal 3</a>: <span class=\"cost\">$700</span>;\n",
       "</p>\n",
       "<strong>Don't forget these feed these 3 animals.</strong>\n",
       "</section>\n",
       "<section>\n",
       "<p><span>Inanimate object 1</span></p>\n",
       "<p><span>Inanimate object 2</span></p>\n",
       "<p><span>Inanimate object 3</span></p>\n",
       "</section>\n",
       ">"
      ]
     },
     "execution_count": 42,
     "metadata": {},
     "output_type": "execute_result"
    }
   ],
   "source": [
    "soup.get_text"
   ]
  },
  {
   "cell_type": "code",
   "execution_count": 43,
   "metadata": {},
   "outputs": [
    {
     "data": {
      "text/plain": [
       "'The title is Demo for BeautifulSoup'"
      ]
     },
     "execution_count": 43,
     "metadata": {},
     "output_type": "execute_result"
    }
   ],
   "source": [
    "## return just a string of the tag:\n",
    "soup.title.string"
   ]
  },
  {
   "cell_type": "code",
   "execution_count": 44,
   "metadata": {},
   "outputs": [
    {
     "data": {
      "text/plain": [
       "'The title is Demo for BeautifulSoup'"
      ]
     },
     "execution_count": 44,
     "metadata": {},
     "output_type": "execute_result"
    }
   ],
   "source": [
    "## get only title text and not html\n",
    "soup.title.get_text()"
   ]
  },
  {
   "cell_type": "code",
   "execution_count": 45,
   "metadata": {},
   "outputs": [
    {
     "data": {
      "text/plain": [
       "'There are three things to keep in mind:\\nPlant 1: $10,\\nPlant 2: $20 and\\nPlant 3 $30;\\n'"
      ]
     },
     "execution_count": 45,
     "metadata": {},
     "output_type": "execute_result"
    }
   ],
   "source": [
    "soup.p.get_text()"
   ]
  },
  {
   "cell_type": "code",
   "execution_count": 46,
   "metadata": {},
   "outputs": [
    {
     "data": {
      "text/plain": [
       "'There are three things to keep in mind:Plant 1:$10,Plant 2:$20andPlant 3$30;'"
      ]
     },
     "execution_count": 46,
     "metadata": {},
     "output_type": "execute_result"
    }
   ],
   "source": [
    "soup.p.get_text(strip=True)"
   ]
  },
  {
   "cell_type": "markdown",
   "metadata": {},
   "source": [
    "## Finding ```class```\n",
    "\n",
    "### There are three ways ranging from simplicity to precision.\n",
    "\n",
    "```find()``` returns the first occurence of any item you are searching for.\n"
   ]
  },
  {
   "cell_type": "markdown",
   "metadata": {},
   "source": [
    "### 1. Simplicity\n",
    "\n",
    "Because ```find``` is one of the most popular functions in ```BeautifulSoup```, \n",
    "you don't even have to write it.\n",
    "\n",
    "```soup(\"tag_name\", \"class_name\")```\n"
   ]
  },
  {
   "cell_type": "code",
   "execution_count": 47,
   "metadata": {},
   "outputs": [
    {
     "data": {
      "text/plain": [
       "[<p class=\"article\">There are three things to keep in mind:\n",
       " <a class=\"plants life\" href=\"http://example.com/plant1\" id=\"plant1\">Plant 1</a>: <span class=\"cost\">$10</span>,\n",
       " <a class=\"plants life\" href=\"http://example.com/plant2\" id=\"plant2\">Plant 2</a>: <span class=\"cost\">$20</span> and\n",
       " <a class=\"plants life\" href=\"http://example.com/plant3\" id=\"plant3\">Plant 3</a> <span class=\"cost\">$30</span>;\n",
       " </p>,\n",
       " <p class=\"article\"> There are three animals in the barn:\n",
       " <a class=\"animals life\" href=\"http://example.com/animal1\" id=\"animal1\">Animal 1</a>: <span class=\"cost\">$500</span>,\n",
       " <a class=\"animals life\" href=\"http://example.com/animal2\" id=\"animal2\">Animal 2</a>: <span class=\"cost\">$600</span> and\n",
       " <a class=\"animals life\" href=\"http://example.com/animal3\" id=\"animal3\">Animal 3</a>: <span class=\"cost\">$700</span>;\n",
       " </p>]"
      ]
     },
     "execution_count": 47,
     "metadata": {},
     "output_type": "execute_result"
    }
   ],
   "source": [
    "soup(\"p\",\"article\")"
   ]
  },
  {
   "cell_type": "markdown",
   "metadata": {},
   "source": [
    "### 2. Clarity\n",
    "\n",
    "We want to be clear what we are writing so all team members can more easily understand it later.\n",
    "\n",
    "- Use ```find``` to know what function it is.\n",
    "- Use ```soup.fine(class_=\"class_name\"``` to be clear what class we are looking for.\n",
    "- ```class_``` is not Python or BeautifulSoup. It is simply there to tell us we are looking for a ```class```. Because ```class``` (a type of data) is a Python reserved word, we add the ```_``` to tell us we are referring to an ```HTML class```.\n"
   ]
  },
  {
   "cell_type": "code",
   "execution_count": 48,
   "metadata": {},
   "outputs": [
    {
     "data": {
      "text/plain": [
       "<p class=\"article\">There are three things to keep in mind:\n",
       "<a class=\"plants life\" href=\"http://example.com/plant1\" id=\"plant1\">Plant 1</a>: <span class=\"cost\">$10</span>,\n",
       "<a class=\"plants life\" href=\"http://example.com/plant2\" id=\"plant2\">Plant 2</a>: <span class=\"cost\">$20</span> and\n",
       "<a class=\"plants life\" href=\"http://example.com/plant3\" id=\"plant3\">Plant 3</a> <span class=\"cost\">$30</span>;\n",
       "</p>"
      ]
     },
     "execution_count": 48,
     "metadata": {},
     "output_type": "execute_result"
    }
   ],
   "source": [
    "soup.find(class_=\"article\")"
   ]
  },
  {
   "cell_type": "markdown",
   "metadata": {},
   "source": [
    "### 3. Precision\n",
    "\n",
    "In the previous example, we could have run into trouble in case the ```class = \"article\"``` applied to multiple tags.\n",
    "\n",
    "- Use the tag name to add precision.\n",
    "- ```soup.find(\"tag_name\", class_=\"class_name\")```"
   ]
  },
  {
   "cell_type": "code",
   "execution_count": 49,
   "metadata": {},
   "outputs": [
    {
     "data": {
      "text/plain": [
       "<p class=\"article\">There are three things to keep in mind:\n",
       "<a class=\"plants life\" href=\"http://example.com/plant1\" id=\"plant1\">Plant 1</a>: <span class=\"cost\">$10</span>,\n",
       "<a class=\"plants life\" href=\"http://example.com/plant2\" id=\"plant2\">Plant 2</a>: <span class=\"cost\">$20</span> and\n",
       "<a class=\"plants life\" href=\"http://example.com/plant3\" id=\"plant3\">Plant 3</a> <span class=\"cost\">$30</span>;\n",
       "</p>"
      ]
     },
     "execution_count": 49,
     "metadata": {},
     "output_type": "execute_result"
    }
   ],
   "source": [
    "soup.find(\"p\", class_=\"article\")"
   ]
  },
  {
   "cell_type": "markdown",
   "metadata": {},
   "source": [
    "## ```find_all``` tags, classes\n",
    "\n",
    "- ```find_all``` is *the most widely* used BeautifulSoup command.\n",
    "- Unlike ```find``` it returns *ALL* occurences of a class or tag.\n",
    "- Remember ```find``` returns just the first occurence.\n",
    "- It returns all occurences in a ```beautifulSoup object``` that is similiar to a ```list```."
   ]
  },
  {
   "cell_type": "code",
   "execution_count": 50,
   "metadata": {},
   "outputs": [
    {
     "data": {
      "text/plain": [
       "[<p class=\"article\">There are three things to keep in mind:\n",
       " <a class=\"plants life\" href=\"http://example.com/plant1\" id=\"plant1\">Plant 1</a>: <span class=\"cost\">$10</span>,\n",
       " <a class=\"plants life\" href=\"http://example.com/plant2\" id=\"plant2\">Plant 2</a>: <span class=\"cost\">$20</span> and\n",
       " <a class=\"plants life\" href=\"http://example.com/plant3\" id=\"plant3\">Plant 3</a> <span class=\"cost\">$30</span>;\n",
       " </p>,\n",
       " <p class=\"article\"> There are three animals in the barn:\n",
       " <a class=\"animals life\" href=\"http://example.com/animal1\" id=\"animal1\">Animal 1</a>: <span class=\"cost\">$500</span>,\n",
       " <a class=\"animals life\" href=\"http://example.com/animal2\" id=\"animal2\">Animal 2</a>: <span class=\"cost\">$600</span> and\n",
       " <a class=\"animals life\" href=\"http://example.com/animal3\" id=\"animal3\">Animal 3</a>: <span class=\"cost\">$700</span>;\n",
       " </p>]"
      ]
     },
     "execution_count": 50,
     "metadata": {},
     "output_type": "execute_result"
    }
   ],
   "source": [
    "## Return all p tags with class article\n",
    "soup.find_all(\"p\",\"article\")"
   ]
  },
  {
   "cell_type": "code",
   "execution_count": 51,
   "metadata": {},
   "outputs": [
    {
     "data": {
      "text/plain": [
       "<p class=\"article\"> There are three animals in the barn:\n",
       "<a class=\"animals life\" href=\"http://example.com/animal1\" id=\"animal1\">Animal 1</a>: <span class=\"cost\">$500</span>,\n",
       "<a class=\"animals life\" href=\"http://example.com/animal2\" id=\"animal2\">Animal 2</a>: <span class=\"cost\">$600</span> and\n",
       "<a class=\"animals life\" href=\"http://example.com/animal3\" id=\"animal3\">Animal 3</a>: <span class=\"cost\">$700</span>;\n",
       "</p>"
      ]
     },
     "execution_count": 51,
     "metadata": {},
     "output_type": "execute_result"
    }
   ],
   "source": [
    "## What if you want only the second group of life forms?\n",
    "soup.find_all(\"p\",\"article\")[1]"
   ]
  },
  {
   "cell_type": "code",
   "execution_count": 52,
   "metadata": {},
   "outputs": [
    {
     "data": {
      "text/plain": [
       "[<a class=\"animals life\" href=\"http://example.com/animal1\" id=\"animal1\">Animal 1</a>]"
      ]
     },
     "execution_count": 52,
     "metadata": {},
     "output_type": "execute_result"
    }
   ],
   "source": [
    "## SEARCH BY ID\n",
    "soup(id=\"animal1\")"
   ]
  },
  {
   "cell_type": "code",
   "execution_count": 53,
   "metadata": {},
   "outputs": [
    {
     "data": {
      "text/plain": [
       "[<a class=\"plants life\" href=\"http://example.com/plant1\" id=\"plant1\">Plant 1</a>]"
      ]
     },
     "execution_count": 53,
     "metadata": {},
     "output_type": "execute_result"
    }
   ],
   "source": [
    "soup(id=\"plant1\")"
   ]
  },
  {
   "cell_type": "markdown",
   "metadata": {},
   "source": [
    "## Storing values\n",
    "\n",
    "We haven't been saving in values in memory. \n",
    "\n",
    "If we want to move beyond a demo, we need to start saving them."
   ]
  },
  {
   "cell_type": "code",
   "execution_count": 54,
   "metadata": {},
   "outputs": [],
   "source": [
    "## save all lifeforms in a object called lifeforms\n",
    "lifeforms = soup.find_all(\"a\",\"life\")"
   ]
  },
  {
   "cell_type": "code",
   "execution_count": 55,
   "metadata": {},
   "outputs": [
    {
     "name": "stdout",
     "output_type": "stream",
     "text": [
      "<class 'bs4.element.ResultSet'>\n"
     ]
    }
   ],
   "source": [
    "## what kind of object it it?\n",
    "print(type(lifeforms))"
   ]
  },
  {
   "cell_type": "markdown",
   "metadata": {},
   "source": [
    "### Print lifeforms. Does it look familiar?"
   ]
  },
  {
   "cell_type": "code",
   "execution_count": 56,
   "metadata": {},
   "outputs": [
    {
     "name": "stdout",
     "output_type": "stream",
     "text": [
      "[<a class=\"plants life\" href=\"http://example.com/plant1\" id=\"plant1\">Plant 1</a>, <a class=\"plants life\" href=\"http://example.com/plant2\" id=\"plant2\">Plant 2</a>, <a class=\"plants life\" href=\"http://example.com/plant3\" id=\"plant3\">Plant 3</a>, <a class=\"animals life\" href=\"http://example.com/animal1\" id=\"animal1\">Animal 1</a>, <a class=\"animals life\" href=\"http://example.com/animal2\" id=\"animal2\">Animal 2</a>, <a class=\"animals life\" href=\"http://example.com/animal3\" id=\"animal3\">Animal 3</a>]\n"
     ]
    }
   ],
   "source": [
    "print(lifeforms)"
   ]
  },
  {
   "cell_type": "code",
   "execution_count": 57,
   "metadata": {},
   "outputs": [
    {
     "ename": "AttributeError",
     "evalue": "ResultSet object has no attribute 'string'. You're probably treating a list of elements like a single element. Did you call find_all() when you meant to call find()?",
     "output_type": "error",
     "traceback": [
      "\u001b[0;31m---------------------------------------------------------------------------\u001b[0m",
      "\u001b[0;31mAttributeError\u001b[0m                            Traceback (most recent call last)",
      "\u001b[0;32m<ipython-input-57-8c511839c0bc>\u001b[0m in \u001b[0;36m<module>\u001b[0;34m\u001b[0m\n\u001b[1;32m      1\u001b[0m \u001b[0;31m## You can't just get the text for the lifeforms.\u001b[0m\u001b[0;34m\u001b[0m\u001b[0;34m\u001b[0m\u001b[0;34m\u001b[0m\u001b[0m\n\u001b[1;32m      2\u001b[0m \u001b[0;31m## Why? Because you can't call .get_text() on a <class 'bs4.element.ResultSet'>\u001b[0m\u001b[0;34m\u001b[0m\u001b[0;34m\u001b[0m\u001b[0;34m\u001b[0m\u001b[0m\n\u001b[0;32m----> 3\u001b[0;31m \u001b[0mprint\u001b[0m\u001b[0;34m(\u001b[0m\u001b[0mlifeforms\u001b[0m\u001b[0;34m.\u001b[0m\u001b[0mstring\u001b[0m\u001b[0;34m)\u001b[0m\u001b[0;34m\u001b[0m\u001b[0;34m\u001b[0m\u001b[0m\n\u001b[0m",
      "\u001b[0;32m~/opt/anaconda3/lib/python3.7/site-packages/bs4/element.py\u001b[0m in \u001b[0;36m__getattr__\u001b[0;34m(self, key)\u001b[0m\n\u001b[1;32m   2126\u001b[0m         \u001b[0;34m\"\"\"Raise a helpful exception to explain a common code fix.\"\"\"\u001b[0m\u001b[0;34m\u001b[0m\u001b[0;34m\u001b[0m\u001b[0m\n\u001b[1;32m   2127\u001b[0m         raise AttributeError(\n\u001b[0;32m-> 2128\u001b[0;31m             \u001b[0;34m\"ResultSet object has no attribute '%s'. You're probably treating a list of elements like a single element. Did you call find_all() when you meant to call find()?\"\u001b[0m \u001b[0;34m%\u001b[0m \u001b[0mkey\u001b[0m\u001b[0;34m\u001b[0m\u001b[0;34m\u001b[0m\u001b[0m\n\u001b[0m\u001b[1;32m   2129\u001b[0m         )\n",
      "\u001b[0;31mAttributeError\u001b[0m: ResultSet object has no attribute 'string'. You're probably treating a list of elements like a single element. Did you call find_all() when you meant to call find()?"
     ]
    }
   ],
   "source": [
    "## You can't just get the text for the lifeforms.\n",
    "## Why? Because you can't call .get_text() on a <class 'bs4.element.ResultSet'>\n",
    "print(lifeforms.string)"
   ]
  },
  {
   "cell_type": "code",
   "execution_count": 58,
   "metadata": {},
   "outputs": [
    {
     "data": {
      "text/plain": [
       "['Plant 1', 'Plant 2', 'Plant 3', 'Animal 1', 'Animal 2', 'Animal 3']"
      ]
     },
     "execution_count": 58,
     "metadata": {},
     "output_type": "execute_result"
    }
   ],
   "source": [
    "## just the text, no html\n",
    "## Using for loop\n",
    "lifeforms_list = []\n",
    "for life in lifeforms:\n",
    "    life = life.string\n",
    "    lifeforms_list.append(life)\n",
    "    \n",
    "lifeforms_list    "
   ]
  },
  {
   "cell_type": "code",
   "execution_count": 59,
   "metadata": {},
   "outputs": [
    {
     "data": {
      "text/plain": [
       "['Plant 1', 'Plant 2', 'Plant 3', 'Animal 1', 'Animal 2', 'Animal 3']"
      ]
     },
     "execution_count": 59,
     "metadata": {},
     "output_type": "execute_result"
    }
   ],
   "source": [
    "## just the text, no html\n",
    "## Using for list comprehension\n",
    "\n",
    "lifeforms_lc = [life.string for life in lifeforms]\n",
    "lifeforms_lc"
   ]
  },
  {
   "cell_type": "markdown",
   "metadata": {},
   "source": [
    "## Get the urls for each"
   ]
  },
  {
   "cell_type": "code",
   "execution_count": 60,
   "metadata": {},
   "outputs": [
    {
     "data": {
      "text/plain": [
       "['http://example.com/plant1',\n",
       " 'http://example.com/plant2',\n",
       " 'http://example.com/plant3',\n",
       " 'http://example.com/animal1',\n",
       " 'http://example.com/animal2',\n",
       " 'http://example.com/animal3']"
      ]
     },
     "execution_count": 60,
     "metadata": {},
     "output_type": "execute_result"
    }
   ],
   "source": [
    "## use for loop\n",
    "all_urls_fl = []\n",
    "for link in lifeforms:\n",
    "    url = link.get(\"href\")\n",
    "    all_urls_fl.append(url)\n",
    "    \n",
    "all_urls_fl   \n",
    "    \n"
   ]
  },
  {
   "cell_type": "code",
   "execution_count": 61,
   "metadata": {},
   "outputs": [
    {
     "data": {
      "text/plain": [
       "['http://example.com/plant1',\n",
       " 'http://example.com/plant2',\n",
       " 'http://example.com/plant3',\n",
       " 'http://example.com/animal1',\n",
       " 'http://example.com/animal2',\n",
       " 'http://example.com/animal3']"
      ]
     },
     "execution_count": 61,
     "metadata": {},
     "output_type": "execute_result"
    }
   ],
   "source": [
    "# using list comprehension\n",
    "\n",
    "all_urls_lc = [a.get(\"href\") for a in lifeforms]\n",
    "all_urls_lc"
   ]
  },
  {
   "cell_type": "markdown",
   "metadata": {},
   "source": [
    "## Cost\n",
    "\n",
    "Let's grab the cost\n",
    "\n",
    "How do we target the cost?"
   ]
  },
  {
   "cell_type": "code",
   "execution_count": 62,
   "metadata": {},
   "outputs": [
    {
     "data": {
      "text/plain": [
       "[<span class=\"cost\">$10</span>,\n",
       " <span class=\"cost\">$20</span>,\n",
       " <span class=\"cost\">$30</span>,\n",
       " <span class=\"cost\">$500</span>,\n",
       " <span class=\"cost\">$600</span>,\n",
       " <span class=\"cost\">$700</span>,\n",
       " <span>Inanimate object 1</span>,\n",
       " <span>Inanimate object 2</span>,\n",
       " <span>Inanimate object 3</span>]"
      ]
     },
     "execution_count": 62,
     "metadata": {},
     "output_type": "execute_result"
    }
   ],
   "source": [
    "## A wide target:\n",
    "cost = soup.find_all(\"span\")\n",
    "cost"
   ]
  },
  {
   "cell_type": "code",
   "execution_count": 63,
   "metadata": {},
   "outputs": [
    {
     "data": {
      "text/plain": [
       "[<span class=\"cost\">$10</span>,\n",
       " <span class=\"cost\">$20</span>,\n",
       " <span class=\"cost\">$30</span>,\n",
       " <span class=\"cost\">$500</span>,\n",
       " <span class=\"cost\">$600</span>,\n",
       " <span class=\"cost\">$700</span>]"
      ]
     },
     "execution_count": 63,
     "metadata": {},
     "output_type": "execute_result"
    }
   ],
   "source": [
    "## narrow the target\n",
    "cost = soup.find_all(\"span\",  class_=\"cost\")\n",
    "cost"
   ]
  },
  {
   "cell_type": "code",
   "execution_count": 64,
   "metadata": {},
   "outputs": [
    {
     "data": {
      "text/plain": [
       "['$10', '$20', '$30', '$500', '$600', '$700']"
      ]
     },
     "execution_count": 64,
     "metadata": {},
     "output_type": "execute_result"
    }
   ],
   "source": [
    "## using for loop\n",
    "cost_list_fl = []\n",
    "for amount in cost:\n",
    "#     amount = amount.get_text()\n",
    "    amount = amount.string\n",
    "    cost_list_fl.append(amount)\n",
    "    \n",
    "cost_list_fl"
   ]
  },
  {
   "cell_type": "code",
   "execution_count": 65,
   "metadata": {},
   "outputs": [
    {
     "data": {
      "text/plain": [
       "['$10', '$20', '$30', '$500', '$600', '$700']"
      ]
     },
     "execution_count": 65,
     "metadata": {},
     "output_type": "execute_result"
    }
   ],
   "source": [
    "## using list comprehension\n",
    "cost_list_lc = [amount.get_text() for amount in cost]\n",
    "cost_list_lc"
   ]
  },
  {
   "cell_type": "markdown",
   "metadata": {},
   "source": [
    "## Prepare to Export\n",
    "\n",
    "You now have one list that holds the name of the lifeform and another that holds the related URL.\n",
    "\n",
    "Let's create a dict call ```life_dict```.\n",
    "\n",
    "Keys are name and url...values are the related values\n"
   ]
  },
  {
   "cell_type": "code",
   "execution_count": 66,
   "metadata": {},
   "outputs": [
    {
     "name": "stdout",
     "output_type": "stream",
     "text": [
      "{'name': ['Plant 1', 'Plant 2', 'Plant 3', 'Animal 1', 'Animal 2', 'Animal 3'], 'cost': ['$10', '$20', '$30', '$500', '$600', '$700'], 'URL': ['http://example.com/plant1', 'http://example.com/plant2', 'http://example.com/plant3', 'http://example.com/animal1', 'http://example.com/animal2', 'http://example.com/animal3']}\n"
     ]
    }
   ],
   "source": [
    "## Create a dict that holds all items from lists created with list comprehension\n",
    "life_dict = {\n",
    "            \"name\": [item for item in lifeforms_lc],\n",
    "            \"cost\": [item for item in cost_list_lc],\n",
    "            \"URL\": [item for item in all_urls_fl],       \n",
    "            }\n",
    "print(life_dict)"
   ]
  },
  {
   "cell_type": "code",
   "execution_count": 67,
   "metadata": {},
   "outputs": [
    {
     "name": "stdout",
     "output_type": "stream",
     "text": [
      "[{'life_form': 'Plant 1', 'cost': '$10', 'link': 'http://example.com/plant1'}, {'life_form': 'Plant 2', 'cost': '$20', 'link': 'http://example.com/plant2'}, {'life_form': 'Plant 3', 'cost': '$30', 'link': 'http://example.com/plant3'}, {'life_form': 'Animal 1', 'cost': '$500', 'link': 'http://example.com/animal1'}, {'life_form': 'Animal 2', 'cost': '$600', 'link': 'http://example.com/animal2'}, {'life_form': 'Animal 3', 'cost': '$700', 'link': 'http://example.com/animal3'}]\n"
     ]
    }
   ],
   "source": [
    "life_dict1 = []\n",
    "for (name, cost, url) in zip(lifeforms_lc, cost_list_lc, all_urls_fl):\n",
    "    life = {\"life_form\": name, \"cost\": cost, \"link\": url}\n",
    "    life_dict1.append(life)\n",
    "print(life_dict1)"
   ]
  },
  {
   "cell_type": "markdown",
   "metadata": {},
   "source": [
    "## Export as CSV\n",
    "\n",
    "We'll use Pandas to export our data to an external file.\n",
    "\n",
    "We'll cover this in more detail soon, but for now here it is:"
   ]
  },
  {
   "cell_type": "code",
   "execution_count": 68,
   "metadata": {},
   "outputs": [],
   "source": [
    "## import pandas\n",
    "import pandas as pd"
   ]
  },
  {
   "cell_type": "code",
   "execution_count": 69,
   "metadata": {},
   "outputs": [
    {
     "name": "stdout",
     "output_type": "stream",
     "text": [
      "test.csv is in your project folder!\n"
     ]
    }
   ],
   "source": [
    "## use pandas to write to csv file\n",
    "filename = \"test.csv\" ## what are file name is\n",
    "df = pd.DataFrame(life_dict) ## we turn our life dict into a dataframe which we're call df\n",
    "df.to_csv(filename, encoding='utf-8', index=False) ## export to csv as utf-8 coding (it just has to be this)\n",
    "\n",
    "print(f\"{filename} is in your project folder!\") ## a print out that tells us the file is ready"
   ]
  },
  {
   "cell_type": "markdown",
   "metadata": {},
   "source": [
    "# BeautifulSoup\n",
    "\n",
    "We covered some basic BeautifulSoup functionality:\n",
    "\n",
    "- Remember ```soup``` is just a term we use to store an entire webpage or file. We could call it anything we want.\n",
    "- Searching by ```tags``` like ```title```, ```h1```, ```span``` etc.\n",
    "- Searching by ```class``` or ```id```\n",
    "- Finding all occurences of an item using ```find_all()```\n",
    "- Finding the first occurence of an item using ```find()```\n",
    "- Removing the html and returning just the string by using ```.string``` or ```get_text()```\n",
    "- Grabbing just the URL(s) using ```get(\"href\")```\n",
    "\n",
    "These are the most frequently used BeautifulSoup functions. You can [find many more](https://www.crummy.com/software/BeautifulSoup/bs4/doc/#) in the documentation. \n"
   ]
  },
  {
   "cell_type": "code",
   "execution_count": null,
   "metadata": {},
   "outputs": [],
   "source": []
  }
 ],
 "metadata": {
  "kernelspec": {
   "display_name": "Python 3",
   "language": "python",
   "name": "python3"
  },
  "language_info": {
   "codemirror_mode": {
    "name": "ipython",
    "version": 3
   },
   "file_extension": ".py",
   "mimetype": "text/x-python",
   "name": "python",
   "nbconvert_exporter": "python",
   "pygments_lexer": "ipython3",
   "version": "3.7.7"
  }
 },
 "nbformat": 4,
 "nbformat_minor": 4
}
